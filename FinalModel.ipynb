{
 "cells": [
  {
   "cell_type": "code",
   "execution_count": 1,
   "metadata": {},
   "outputs": [],
   "source": [
    "from twitterapi import TwitterAPI\n",
    "from twilens import TwiLens"
   ]
  },
  {
   "cell_type": "code",
   "execution_count": 2,
   "metadata": {},
   "outputs": [],
   "source": [
    "api = TwitterAPI()\n",
    "model = TwiLens()"
   ]
  },
  {
   "cell_type": "code",
   "execution_count": 18,
   "metadata": {},
   "outputs": [
    {
     "name": "stdout",
     "output_type": "stream",
     "text": [
      "Please enter the hashtags of the tweets you want to retrieve, separated by spaces.\n",
      "Hashtags help filter tweets based on a specific topic or keyword.\n",
      "\n",
      "Choose the section:\n",
      "1. Top Tweets - Retrieves the top tweets based on relevance or engagement.\n",
      "2. Latest Tweets - Retrieves the most recent tweets.\n"
     ]
    },
    {
     "data": {
      "text/html": [
       "<div>\n",
       "<style scoped>\n",
       "    .dataframe tbody tr th:only-of-type {\n",
       "        vertical-align: middle;\n",
       "    }\n",
       "\n",
       "    .dataframe tbody tr th {\n",
       "        vertical-align: top;\n",
       "    }\n",
       "\n",
       "    .dataframe thead th {\n",
       "        text-align: right;\n",
       "    }\n",
       "</style>\n",
       "<table border=\"1\" class=\"dataframe\">\n",
       "  <thead>\n",
       "    <tr style=\"text-align: right;\">\n",
       "      <th></th>\n",
       "      <th>Tweet ID</th>\n",
       "      <th>User ID</th>\n",
       "      <th>Text</th>\n",
       "    </tr>\n",
       "  </thead>\n",
       "  <tbody>\n",
       "    <tr>\n",
       "      <th>0</th>\n",
       "      <td>1779908697734717841</td>\n",
       "      <td>1579026195009921024</td>\n",
       "      <td>Infrastructural development under PM Narendra ...</td>\n",
       "    </tr>\n",
       "    <tr>\n",
       "      <th>1</th>\n",
       "      <td>1780116799415374077</td>\n",
       "      <td>1911762607</td>\n",
       "      <td>Dear @VPIndia you are not spokesman of @BJP4In...</td>\n",
       "    </tr>\n",
       "    <tr>\n",
       "      <th>2</th>\n",
       "      <td>1778058678769529096</td>\n",
       "      <td>1407559338558849027</td>\n",
       "      <td>Era of  will be entered as a black spot in the...</td>\n",
       "    </tr>\n",
       "    <tr>\n",
       "      <th>3</th>\n",
       "      <td>1779012494675398892</td>\n",
       "      <td>359770436</td>\n",
       "      <td>How long will the   fool the people of India?</td>\n",
       "    </tr>\n",
       "    <tr>\n",
       "      <th>4</th>\n",
       "      <td>1779852043462566362</td>\n",
       "      <td>1069566621847445506</td>\n",
       "      <td>is another  of  In reality, parties like BJP a...</td>\n",
       "    </tr>\n",
       "    <tr>\n",
       "      <th>5</th>\n",
       "      <td>1778055619028861028</td>\n",
       "      <td>1407559338558849027</td>\n",
       "      <td>Era of  will be entered as a black spot in the...</td>\n",
       "    </tr>\n",
       "    <tr>\n",
       "      <th>6</th>\n",
       "      <td>1779746215338385587</td>\n",
       "      <td>22127823</td>\n",
       "      <td>Foreign media outlet exposes cracks in   narra...</td>\n",
       "    </tr>\n",
       "    <tr>\n",
       "      <th>7</th>\n",
       "      <td>1779026066860019980</td>\n",
       "      <td>1057922358281977856</td>\n",
       "      <td>At this stage, a majority of respondents are w...</td>\n",
       "    </tr>\n",
       "    <tr>\n",
       "      <th>8</th>\n",
       "      <td>1779462676210499658</td>\n",
       "      <td>1634630708143456258</td>\n",
       "      <td>None can deny that  and  hoaxes were used to e...</td>\n",
       "    </tr>\n",
       "    <tr>\n",
       "      <th>9</th>\n",
       "      <td>1777946628529508794</td>\n",
       "      <td>927181703206047745</td>\n",
       "      <td>Assam will contribute 13 Lok Sabha Seat(fm 14 ...</td>\n",
       "    </tr>\n",
       "    <tr>\n",
       "      <th>10</th>\n",
       "      <td>1779937331715183060</td>\n",
       "      <td>1054399358643261442</td>\n",
       "      <td>Has any of the initiatives of  in 10 years ben...</td>\n",
       "    </tr>\n",
       "    <tr>\n",
       "      <th>11</th>\n",
       "      <td>1778694065762209937</td>\n",
       "      <td>1754119687431196672</td>\n",
       "      <td>Every Survey is in Favour of the  ! Public Pul...</td>\n",
       "    </tr>\n",
       "    <tr>\n",
       "      <th>12</th>\n",
       "      <td>1779130286212538817</td>\n",
       "      <td>1069566621847445506</td>\n",
       "      <td>So this happens when you try to challenge the ...</td>\n",
       "    </tr>\n",
       "    <tr>\n",
       "      <th>13</th>\n",
       "      <td>1779185712186683468</td>\n",
       "      <td>1257373013256876033</td>\n",
       "      <td>Another by-product of  - World's LARGEST scam ...</td>\n",
       "    </tr>\n",
       "    <tr>\n",
       "      <th>14</th>\n",
       "      <td>1778643724085678326</td>\n",
       "      <td>4264422434</td>\n",
       "      <td>Works Done for Infrastructure by Hon'ble PM Sh...</td>\n",
       "    </tr>\n",
       "    <tr>\n",
       "      <th>15</th>\n",
       "      <td>1778396526932545597</td>\n",
       "      <td>778861357</td>\n",
       "      <td>A survey has revealed that in last 5 years  is...</td>\n",
       "    </tr>\n",
       "    <tr>\n",
       "      <th>16</th>\n",
       "      <td>1780117514661642671</td>\n",
       "      <td>1648962799908065282</td>\n",
       "      <td>And still they will not get dual citizenship f...</td>\n",
       "    </tr>\n",
       "  </tbody>\n",
       "</table>\n",
       "</div>"
      ],
      "text/plain": [
       "               Tweet ID              User ID  \\\n",
       "0   1779908697734717841  1579026195009921024   \n",
       "1   1780116799415374077           1911762607   \n",
       "2   1778058678769529096  1407559338558849027   \n",
       "3   1779012494675398892            359770436   \n",
       "4   1779852043462566362  1069566621847445506   \n",
       "5   1778055619028861028  1407559338558849027   \n",
       "6   1779746215338385587             22127823   \n",
       "7   1779026066860019980  1057922358281977856   \n",
       "8   1779462676210499658  1634630708143456258   \n",
       "9   1777946628529508794   927181703206047745   \n",
       "10  1779937331715183060  1054399358643261442   \n",
       "11  1778694065762209937  1754119687431196672   \n",
       "12  1779130286212538817  1069566621847445506   \n",
       "13  1779185712186683468  1257373013256876033   \n",
       "14  1778643724085678326           4264422434   \n",
       "15  1778396526932545597            778861357   \n",
       "16  1780117514661642671  1648962799908065282   \n",
       "\n",
       "                                                 Text  \n",
       "0   Infrastructural development under PM Narendra ...  \n",
       "1   Dear @VPIndia you are not spokesman of @BJP4In...  \n",
       "2   Era of  will be entered as a black spot in the...  \n",
       "3       How long will the   fool the people of India?  \n",
       "4   is another  of  In reality, parties like BJP a...  \n",
       "5   Era of  will be entered as a black spot in the...  \n",
       "6   Foreign media outlet exposes cracks in   narra...  \n",
       "7   At this stage, a majority of respondents are w...  \n",
       "8   None can deny that  and  hoaxes were used to e...  \n",
       "9   Assam will contribute 13 Lok Sabha Seat(fm 14 ...  \n",
       "10  Has any of the initiatives of  in 10 years ben...  \n",
       "11  Every Survey is in Favour of the  ! Public Pul...  \n",
       "12  So this happens when you try to challenge the ...  \n",
       "13  Another by-product of  - World's LARGEST scam ...  \n",
       "14  Works Done for Infrastructure by Hon'ble PM Sh...  \n",
       "15  A survey has revealed that in last 5 years  is...  \n",
       "16  And still they will not get dual citizenship f...  "
      ]
     },
     "execution_count": 18,
     "metadata": {},
     "output_type": "execute_result"
    }
   ],
   "source": [
    "dataset = api.retrieve_tweets()\n",
    "dataset"
   ]
  },
  {
   "cell_type": "code",
   "execution_count": 19,
   "metadata": {},
   "outputs": [
    {
     "name": "stdout",
     "output_type": "stream",
     "text": [
      "BJP4India is the most corrupt govt ever in the world .\n",
      "They are sitting upon recognition of  for 3 years that is teaching Era of  will be entered as a black spot in the history of Indian politics Liars, communal dividers, corrupts, anti women, anti youth, anti farmers, shameless…..And the list is very long Foreign media outlet exposes cracks in   narrative, raising doubts on India's growth claims .\n"
     ]
    }
   ],
   "source": [
    "output1 = model.SentimentSummary(dataset['Text'], 'negative')\n",
    "print(output1)"
   ]
  },
  {
   "cell_type": "code",
   "execution_count": 20,
   "metadata": {},
   "outputs": [
    {
     "name": "stdout",
     "output_type": "stream",
     "text": [
      "Assam will contribute 13 Lok Sabha Seat(fm 14 seat)in the next 9 years .\n",
      "55% of people believe corruption has increased in last 5 years .\n"
     ]
    }
   ],
   "source": [
    "output2 = model.SentimentSummary(dataset['Text'], 'positive')\n",
    "print(output2)"
   ]
  },
  {
   "cell_type": "code",
   "execution_count": 21,
   "metadata": {},
   "outputs": [
    {
     "name": "stderr",
     "output_type": "stream",
     "text": [
      "Your max_length is set to 128, but your input_length is only 38. Since this is a summarization task, where outputs shorter than the input are typically wanted, you might consider decreasing max_length manually, e.g. summarizer('...', max_length=19)\n"
     ]
    },
    {
     "name": "stdout",
     "output_type": "stream",
     "text": [
      "Infrastructure Projects Won't DeceitDual Citizenship\n"
     ]
    }
   ],
   "source": [
    "output3 = model.SentimentSummary(dataset['Text'], 'neutral')\n",
    "print(output3)"
   ]
  }
 ],
 "metadata": {
  "kernelspec": {
   "display_name": "transformer",
   "language": "python",
   "name": "python3"
  },
  "language_info": {
   "codemirror_mode": {
    "name": "ipython",
    "version": 3
   },
   "file_extension": ".py",
   "mimetype": "text/x-python",
   "name": "python",
   "nbconvert_exporter": "python",
   "pygments_lexer": "ipython3",
   "version": "3.10.14"
  }
 },
 "nbformat": 4,
 "nbformat_minor": 2
}
